{
 "cells": [
  {
   "cell_type": "code",
   "execution_count": 1,
   "metadata": {},
   "outputs": [
    {
     "name": "stderr",
     "output_type": "stream",
     "text": [
      "C:\\Users\\sushant\\Anaconda2\\lib\\site-packages\\sklearn\\cross_validation.py:44: DeprecationWarning: This module was deprecated in version 0.18 in favor of the model_selection module into which all the refactored classes and functions are moved. Also note that the interface of the new CV iterators are different from that of this module. This module will be removed in 0.20.\n",
      "  \"This module will be removed in 0.20.\", DeprecationWarning)\n"
     ]
    }
   ],
   "source": [
    "import pandas as pd\n",
    "import numpy as np\n",
    "import os\n",
    "import scipy\n",
    "import itertools\n",
    "import seaborn as sns\n",
    "import matplotlib.pyplot as plt    \n",
    "import xgboost as xgb\n",
    "iv=['np'    , 'os'     ,'pd'    , 'plt'     ,'tqdm'    , 'train'     ,'train_date'      , 'train_num' ,'data'    ]\n",
    "def memchk(iv):\n",
    "    import sys,operator\n",
    "    ipython_vars=iv\n",
    "    ,'warnings'    , 'xgboost']\n",
    "    print sorted([(x, sys.getsizeof(globals().get(x))) for x in dir() if not x.startswith('_') and x not in sys.modules and x not in ipython_vars], key=lambda x: x[1], reverse=True)\n",
    "    return sorted([{i:sys.getsizeof(globals().get(i))/1000000.0} for i in ipython_vars])\n",
    "%matplotlib inline\n",
    "from sklearn.metrics import confusion_matrix\n",
    "import warnings\n",
    "%load_ext autotime\n",
    "warnings.filterwarnings('ignore')\n",
    "from tqdm import tqdm\n",
    "from IPython.display import Markdown, display\n",
    "def printmd(string):\n",
    "    display(Markdown(string))\n",
    "plt.style.use('classic')\n",
    "from contigency import Ttable,table, plot \n",
    "from sklearn.linear_model import LinearRegression"
   ]
  },
  {
   "cell_type": "code",
   "execution_count": 2,
   "metadata": {},
   "outputs": [
    {
     "name": "stdout",
     "output_type": "stream",
     "text": [
      "time: 3 ms\n"
     ]
    }
   ],
   "source": [
    "from sklearn.linear_model import LinearRegression"
   ]
  },
  {
   "cell_type": "code",
   "execution_count": null,
   "metadata": {},
   "outputs": [],
   "source": []
  },
  {
   "cell_type": "code",
   "execution_count": 3,
   "metadata": {},
   "outputs": [
    {
     "name": "stdout",
     "output_type": "stream",
     "text": [
      "time: 23.7 s\n"
     ]
    }
   ],
   "source": [
    "data = pd.read_csv(r'C:\\Users\\sushant\\Documents\\Datasets\\NYC\\data_clean_eda.csv')#.drop('Unnamed: 0',1)"
   ]
  },
  {
   "cell_type": "code",
   "execution_count": 4,
   "metadata": {},
   "outputs": [
    {
     "name": "stdout",
     "output_type": "stream",
     "text": [
      "<class 'pandas.core.frame.DataFrame'>\n",
      "RangeIndex: 2083778 entries, 0 to 2083777\n",
      "Data columns (total 24 columns):\n",
      "dropoff_datetime         object\n",
      "dropoff_latitude         float64\n",
      "dropoff_longitude        float64\n",
      "id                       object\n",
      "passenger_count          int64\n",
      "pickup_datetime          object\n",
      "pickup_latitude          float64\n",
      "pickup_longitude         float64\n",
      "store_and_fwd_flag       object\n",
      "trip_duration            float64\n",
      "vendor_id                int64\n",
      "dropoff_datetimeyear     float64\n",
      "dropoff_datetimemonth    float64\n",
      "dropoff_datetimeday      float64\n",
      "dropoff_datetimehour     float64\n",
      "dropoff_datetimedate     object\n",
      "pickup_datetimeyear      int64\n",
      "pickup_datetimemonth     int64\n",
      "pickup_datetimeday       int64\n",
      "pickup_datetimehour      int64\n",
      "pickup_datetimedate      object\n",
      "Train                    int64\n",
      "Valid                    int64\n",
      "distance                 float64\n",
      "dtypes: float64(10), int64(8), object(6)\n",
      "memory usage: 381.6+ MB\n",
      "time: 1.13 s\n"
     ]
    }
   ],
   "source": [
    "data.info()"
   ]
  },
  {
   "cell_type": "code",
   "execution_count": 5,
   "metadata": {},
   "outputs": [
    {
     "name": "stdout",
     "output_type": "stream",
     "text": [
      "Categorical\n",
      "['dropoff_datetime', 'id', 'pickup_datetime', 'store_and_fwd_flag', 'dropoff_datetimedate', 'pickup_datetimedate']\n",
      "\n",
      "Numerical Variables\n",
      "['dropoff_latitude', 'dropoff_longitude', 'passenger_count', 'pickup_latitude', 'pickup_longitude', 'trip_duration', 'vendor_id', 'dropoff_datetimeyear', 'dropoff_datetimemonth', 'dropoff_datetimeday', 'dropoff_datetimehour', 'pickup_datetimeyear', 'pickup_datetimemonth', 'pickup_datetimeday', 'pickup_datetimehour', 'Train', 'Valid', 'distance']\n",
      "time: 1.9 s\n"
     ]
    }
   ],
   "source": [
    "print 'Categorical'\n",
    "cat_var= data.select_dtypes(include = ['object']).columns.values.tolist()\n",
    "print cat_var\n",
    "print '\\nNumerical Variables'\n",
    "num_var = data.select_dtypes(include = ['int64','float64']).columns.values.tolist()\n",
    "print num_var"
   ]
  },
  {
   "cell_type": "code",
   "execution_count": 6,
   "metadata": {},
   "outputs": [
    {
     "name": "stdout",
     "output_type": "stream",
     "text": [
      "time: 648 ms\n"
     ]
    }
   ],
   "source": [
    "subm=data[data['Train']==0][['id']]"
   ]
  },
  {
   "cell_type": "code",
   "execution_count": 7,
   "metadata": {},
   "outputs": [
    {
     "name": "stdout",
     "output_type": "stream",
     "text": [
      "time: 231 ms\n"
     ]
    }
   ],
   "source": [
    "data=data[num_var+['store_and_fwd_flag']]"
   ]
  },
  {
   "cell_type": "code",
   "execution_count": 8,
   "metadata": {},
   "outputs": [
    {
     "name": "stdout",
     "output_type": "stream",
     "text": [
      "time: 227 ms\n"
     ]
    }
   ],
   "source": [
    "train=data[data['Valid']==0]\n",
    "valid=data[data['Valid']==1]"
   ]
  },
  {
   "cell_type": "code",
   "execution_count": 9,
   "metadata": {},
   "outputs": [
    {
     "name": "stdout",
     "output_type": "stream",
     "text": [
      "time: 161 ms\n"
     ]
    }
   ],
   "source": [
    "train=train.drop(['Train','Valid'],1)\n",
    "valid=valid.drop(['Train','Valid'],1)"
   ]
  },
  {
   "cell_type": "code",
   "execution_count": 10,
   "metadata": {},
   "outputs": [
    {
     "name": "stdout",
     "output_type": "stream",
     "text": [
      "time: 2.97 s\n"
     ]
    }
   ],
   "source": [
    "train['vendor_id']=train['vendor_id'].astype(object)\n",
    "train=pd.get_dummies(train)\n",
    "valid['vendor_id']=valid['vendor_id'].astype(object)\n",
    "valid=pd.get_dummies(valid)"
   ]
  },
  {
   "cell_type": "code",
   "execution_count": 11,
   "metadata": {},
   "outputs": [
    {
     "name": "stdout",
     "output_type": "stream",
     "text": [
      "<class 'pandas.core.frame.DataFrame'>\n",
      "Int64Index: 1166915 entries, 291729 to 1458643\n",
      "Data columns (total 19 columns):\n",
      "dropoff_latitude         1166915 non-null float64\n",
      "dropoff_longitude        1166915 non-null float64\n",
      "passenger_count          1166915 non-null int64\n",
      "pickup_latitude          1166915 non-null float64\n",
      "pickup_longitude         1166915 non-null float64\n",
      "trip_duration            1166915 non-null float64\n",
      "dropoff_datetimeyear     1166915 non-null float64\n",
      "dropoff_datetimemonth    1166915 non-null float64\n",
      "dropoff_datetimeday      1166915 non-null float64\n",
      "dropoff_datetimehour     1166915 non-null float64\n",
      "pickup_datetimeyear      1166915 non-null int64\n",
      "pickup_datetimemonth     1166915 non-null int64\n",
      "pickup_datetimeday       1166915 non-null int64\n",
      "pickup_datetimehour      1166915 non-null int64\n",
      "distance                 1166915 non-null float64\n",
      "vendor_id_1              1166915 non-null uint8\n",
      "vendor_id_2              1166915 non-null uint8\n",
      "store_and_fwd_flag_N     1166915 non-null uint8\n",
      "store_and_fwd_flag_Y     1166915 non-null uint8\n",
      "dtypes: float64(10), int64(5), uint8(4)\n",
      "memory usage: 146.9 MB\n",
      "<class 'pandas.core.frame.DataFrame'>\n",
      "Int64Index: 291729 entries, 0 to 291728\n",
      "Data columns (total 19 columns):\n",
      "dropoff_latitude         291729 non-null float64\n",
      "dropoff_longitude        291729 non-null float64\n",
      "passenger_count          291729 non-null int64\n",
      "pickup_latitude          291729 non-null float64\n",
      "pickup_longitude         291729 non-null float64\n",
      "trip_duration            291729 non-null float64\n",
      "dropoff_datetimeyear     291729 non-null float64\n",
      "dropoff_datetimemonth    291729 non-null float64\n",
      "dropoff_datetimeday      291729 non-null float64\n",
      "dropoff_datetimehour     291729 non-null float64\n",
      "pickup_datetimeyear      291729 non-null int64\n",
      "pickup_datetimemonth     291729 non-null int64\n",
      "pickup_datetimeday       291729 non-null int64\n",
      "pickup_datetimehour      291729 non-null int64\n",
      "distance                 291729 non-null float64\n",
      "vendor_id_1              291729 non-null uint8\n",
      "vendor_id_2              291729 non-null uint8\n",
      "store_and_fwd_flag_N     291729 non-null uint8\n",
      "store_and_fwd_flag_Y     291729 non-null uint8\n",
      "dtypes: float64(10), int64(5), uint8(4)\n",
      "memory usage: 36.7 MB\n"
     ]
    },
    {
     "data": {
      "text/plain": [
       "(None, None)"
      ]
     },
     "execution_count": 11,
     "metadata": {},
     "output_type": "execute_result"
    },
    {
     "name": "stdout",
     "output_type": "stream",
     "text": [
      "time: 1.26 s\n"
     ]
    }
   ],
   "source": [
    "train.info(), valid.info()"
   ]
  },
  {
   "cell_type": "code",
   "execution_count": 12,
   "metadata": {},
   "outputs": [
    {
     "name": "stdout",
     "output_type": "stream",
     "text": [
      "time: 10 ms\n"
     ]
    }
   ],
   "source": [
    "target=train['trip_duration']\n",
    "valid_target=valid[['trip_duration']]"
   ]
  },
  {
   "cell_type": "code",
   "execution_count": 13,
   "metadata": {},
   "outputs": [
    {
     "name": "stdout",
     "output_type": "stream",
     "text": [
      "time: 101 ms\n"
     ]
    }
   ],
   "source": [
    "train=train.drop('trip_duration',1)\n",
    "valid=valid.drop('trip_duration',1)"
   ]
  },
  {
   "cell_type": "code",
   "execution_count": 14,
   "metadata": {},
   "outputs": [
    {
     "name": "stdout",
     "output_type": "stream",
     "text": [
      "time: 2 ms\n"
     ]
    }
   ],
   "source": [
    "lr=LinearRegression()"
   ]
  },
  {
   "cell_type": "code",
   "execution_count": 15,
   "metadata": {},
   "outputs": [
    {
     "data": {
      "text/plain": [
       "LinearRegression(copy_X=True, fit_intercept=True, n_jobs=1, normalize=False)"
      ]
     },
     "execution_count": 15,
     "metadata": {},
     "output_type": "execute_result"
    },
    {
     "name": "stdout",
     "output_type": "stream",
     "text": [
      "time: 4.42 s\n"
     ]
    }
   ],
   "source": [
    "lr.fit(train,target)"
   ]
  },
  {
   "cell_type": "code",
   "execution_count": 16,
   "metadata": {},
   "outputs": [
    {
     "name": "stdout",
     "output_type": "stream",
     "text": [
      "time: 23 ms\n"
     ]
    }
   ],
   "source": [
    "#valid_target[]"
   ]
  },
  {
   "cell_type": "code",
   "execution_count": 17,
   "metadata": {},
   "outputs": [
    {
     "name": "stdout",
     "output_type": "stream",
     "text": [
      "time: 11.5 s\n"
     ]
    }
   ],
   "source": [
    "valid_target['pred']=lr.predict(valid)"
   ]
  },
  {
   "cell_type": "code",
   "execution_count": 18,
   "metadata": {},
   "outputs": [
    {
     "name": "stdout",
     "output_type": "stream",
     "text": [
      "<class 'pandas.core.frame.DataFrame'>\n",
      "Int64Index: 291729 entries, 0 to 291728\n",
      "Data columns (total 2 columns):\n",
      "trip_duration    291729 non-null float64\n",
      "pred             291729 non-null float64\n",
      "dtypes: float64(2)\n",
      "memory usage: 6.7 MB\n",
      "time: 14 ms\n"
     ]
    }
   ],
   "source": [
    "valid_target.info()"
   ]
  },
  {
   "cell_type": "code",
   "execution_count": 19,
   "metadata": {},
   "outputs": [
    {
     "name": "stdout",
     "output_type": "stream",
     "text": [
      "time: 176 ms\n"
     ]
    }
   ],
   "source": [
    "valid_target['pred']=np.round(valid_target['pred'],2)"
   ]
  },
  {
   "cell_type": "code",
   "execution_count": 20,
   "metadata": {},
   "outputs": [
    {
     "data": {
      "text/plain": [
       "(31, 291729)"
      ]
     },
     "execution_count": 20,
     "metadata": {},
     "output_type": "execute_result"
    },
    {
     "name": "stdout",
     "output_type": "stream",
     "text": [
      "time: 7 ms\n"
     ]
    }
   ],
   "source": [
    "len(valid_target[valid_target['pred']<0]),len(valid_target)"
   ]
  },
  {
   "cell_type": "code",
   "execution_count": 21,
   "metadata": {},
   "outputs": [
    {
     "name": "stdout",
     "output_type": "stream",
     "text": [
      "time: 38 ms\n"
     ]
    }
   ],
   "source": [
    "valid_target=valid_target[valid_target['pred']>0]"
   ]
  },
  {
   "cell_type": "code",
   "execution_count": 22,
   "metadata": {},
   "outputs": [
    {
     "name": "stdout",
     "output_type": "stream",
     "text": [
      "time: 74 ms\n"
     ]
    }
   ],
   "source": [
    "def rmsle(predicted,real):\n",
    "    sum1=0.0\n",
    "    print len(predicted)\n",
    "    for x in xrange(len(predicted)):\n",
    "        p = np.log(predicted[x]+1)\n",
    "        r = np.log(real[x]+1)\n",
    "        sum1 = sum1 + (p - r)**2\n",
    "    print sum1\n",
    "    return (sum1/len(predicted))**0.5"
   ]
  },
  {
   "cell_type": "code",
   "execution_count": 23,
   "metadata": {},
   "outputs": [
    {
     "name": "stdout",
     "output_type": "stream",
     "text": [
      "291698\n",
      "982956.949352\n"
     ]
    },
    {
     "data": {
      "text/plain": [
       "1.8356949915032961"
      ]
     },
     "execution_count": 23,
     "metadata": {},
     "output_type": "execute_result"
    },
    {
     "name": "stdout",
     "output_type": "stream",
     "text": [
      "time: 1.12 s\n"
     ]
    }
   ],
   "source": [
    "rmsle(np.array(valid_target['pred']),np.array(valid_target['trip_duration']))"
   ]
  },
  {
   "cell_type": "code",
   "execution_count": 24,
   "metadata": {},
   "outputs": [
    {
     "data": {
      "text/plain": [
       "<matplotlib.axes._subplots.AxesSubplot at 0xc0e1a20>"
      ]
     },
     "execution_count": 24,
     "metadata": {},
     "output_type": "execute_result"
    },
    {
     "data": {
      "image/png": "[encoded data removed]",
      "text/plain": [
       "<matplotlib.figure.Figure at 0x3e96ef0>"
      ]
     },
     "metadata": {},
     "output_type": "display_data"
    },
    {
     "name": "stdout",
     "output_type": "stream",
     "text": [
      "time: 6.66 s\n"
     ]
    }
   ],
   "source": [
    "valid_target.plot(x='trip_duration',y='pred',kind='scatter')"
   ]
  },
  {
   "cell_type": "code",
   "execution_count": null,
   "metadata": {
    "collapsed": true
   },
   "outputs": [],
   "source": []
  },
  {
   "cell_type": "code",
   "execution_count": 25,
   "metadata": {},
   "outputs": [
    {
     "ename": "SyntaxError",
     "evalue": "invalid syntax (<ipython-input-25-8cf8463b34ca>, line 1)",
     "output_type": "error",
     "traceback": [
      "\u001b[1;36m  File \u001b[1;32m\"<ipython-input-25-8cf8463b34ca>\"\u001b[1;36m, line \u001b[1;32m1\u001b[0m\n\u001b[1;33m    .\u001b[0m\n\u001b[1;37m    ^\u001b[0m\n\u001b[1;31mSyntaxError\u001b[0m\u001b[1;31m:\u001b[0m invalid syntax\n"
     ]
    }
   ],
   "source": [
    "."
   ]
  },
  {
   "cell_type": "code",
   "execution_count": 66,
   "metadata": {},
   "outputs": [
    {
     "name": "stdout",
     "output_type": "stream",
     "text": [
      "time: 1.96 s\n"
     ]
    }
   ],
   "source": [
    "train=data[data['Train']==1]\n",
    "test=data[data['Train']==0]"
   ]
  },
  {
   "cell_type": "code",
   "execution_count": null,
   "metadata": {
    "collapsed": true
   },
   "outputs": [],
   "source": []
  },
  {
   "cell_type": "code",
   "execution_count": 67,
   "metadata": {},
   "outputs": [
    {
     "name": "stdout",
     "output_type": "stream",
     "text": [
      "time: 249 ms\n"
     ]
    }
   ],
   "source": [
    "train=train.drop(['Train','Valid'],1)\n",
    "test=test.drop(['Train','Valid'],1)"
   ]
  },
  {
   "cell_type": "code",
   "execution_count": 68,
   "metadata": {},
   "outputs": [
    {
     "name": "stdout",
     "output_type": "stream",
     "text": [
      "time: 2.41 s\n"
     ]
    }
   ],
   "source": [
    "train['vendor_id']=train['vendor_id'].astype(object)\n",
    "train=pd.get_dummies(train)\n",
    "test['vendor_id']=test['vendor_id'].astype(object)\n",
    "test=pd.get_dummies(test)"
   ]
  },
  {
   "cell_type": "code",
   "execution_count": 69,
   "metadata": {},
   "outputs": [
    {
     "name": "stdout",
     "output_type": "stream",
     "text": [
      "<class 'pandas.core.frame.DataFrame'>\n",
      "Int64Index: 1458644 entries, 0 to 1458643\n",
      "Data columns (total 19 columns):\n",
      "dropoff_latitude         1458644 non-null float64\n",
      "dropoff_longitude        1458644 non-null float64\n",
      "passenger_count          1458644 non-null int64\n",
      "pickup_latitude          1458644 non-null float64\n",
      "pickup_longitude         1458644 non-null float64\n",
      "trip_duration            1458644 non-null float64\n",
      "dropoff_datetimeyear     1458644 non-null float64\n",
      "dropoff_datetimemonth    1458644 non-null float64\n",
      "dropoff_datetimeday      1458644 non-null float64\n",
      "dropoff_datetimehour     1458644 non-null float64\n",
      "pickup_datetimeyear      1458644 non-null int64\n",
      "pickup_datetimemonth     1458644 non-null int64\n",
      "pickup_datetimeday       1458644 non-null int64\n",
      "pickup_datetimehour      1458644 non-null int64\n",
      "distance                 1458644 non-null float64\n",
      "vendor_id_1              1458644 non-null uint8\n",
      "vendor_id_2              1458644 non-null uint8\n",
      "store_and_fwd_flag_N     1458644 non-null uint8\n",
      "store_and_fwd_flag_Y     1458644 non-null uint8\n",
      "dtypes: float64(10), int64(5), uint8(4)\n",
      "memory usage: 183.6 MB\n",
      "<class 'pandas.core.frame.DataFrame'>\n",
      "Int64Index: 625134 entries, 1458644 to 2083777\n",
      "Data columns (total 19 columns):\n",
      "dropoff_latitude         625134 non-null float64\n",
      "dropoff_longitude        625134 non-null float64\n",
      "passenger_count          625134 non-null int64\n",
      "pickup_latitude          625134 non-null float64\n",
      "pickup_longitude         625134 non-null float64\n",
      "trip_duration            0 non-null float64\n",
      "dropoff_datetimeyear     0 non-null float64\n",
      "dropoff_datetimemonth    0 non-null float64\n",
      "dropoff_datetimeday      0 non-null float64\n",
      "dropoff_datetimehour     0 non-null float64\n",
      "pickup_datetimeyear      625134 non-null int64\n",
      "pickup_datetimemonth     625134 non-null int64\n",
      "pickup_datetimeday       625134 non-null int64\n",
      "pickup_datetimehour      625134 non-null int64\n",
      "distance                 625134 non-null float64\n",
      "vendor_id_1              625134 non-null uint8\n",
      "vendor_id_2              625134 non-null uint8\n",
      "store_and_fwd_flag_N     625134 non-null uint8\n",
      "store_and_fwd_flag_Y     625134 non-null uint8\n",
      "dtypes: float64(10), int64(5), uint8(4)\n",
      "memory usage: 78.7 MB\n"
     ]
    },
    {
     "data": {
      "text/plain": [
       "(None, None)"
      ]
     },
     "execution_count": 69,
     "metadata": {},
     "output_type": "execute_result"
    },
    {
     "name": "stdout",
     "output_type": "stream",
     "text": [
      "time: 3.41 s\n"
     ]
    }
   ],
   "source": [
    "train.info(), test.info()"
   ]
  },
  {
   "cell_type": "code",
   "execution_count": 70,
   "metadata": {},
   "outputs": [
    {
     "name": "stdout",
     "output_type": "stream",
     "text": [
      "time: 63 ms\n"
     ]
    }
   ],
   "source": [
    "test=test.drop(['dropoff_datetimeyear',\n",
    " 'dropoff_datetimemonth',\n",
    " 'dropoff_datetimeday',\n",
    " 'dropoff_datetimehour'],1)"
   ]
  },
  {
   "cell_type": "code",
   "execution_count": 71,
   "metadata": {},
   "outputs": [
    {
     "name": "stdout",
     "output_type": "stream",
     "text": [
      "time: 344 ms\n"
     ]
    }
   ],
   "source": [
    "train=train.drop(['dropoff_datetimeyear',\n",
    " 'dropoff_datetimemonth',\n",
    " 'dropoff_datetimeday',\n",
    " 'dropoff_datetimehour'],1)"
   ]
  },
  {
   "cell_type": "code",
   "execution_count": 72,
   "metadata": {},
   "outputs": [
    {
     "name": "stdout",
     "output_type": "stream",
     "text": [
      "time: 212 ms\n"
     ]
    }
   ],
   "source": [
    "target=train[['trip_duration']]\n",
    "#valid_target=valid[['trip_duration']]"
   ]
  },
  {
   "cell_type": "code",
   "execution_count": 73,
   "metadata": {},
   "outputs": [
    {
     "name": "stdout",
     "output_type": "stream",
     "text": [
      "time: 117 ms\n"
     ]
    }
   ],
   "source": [
    "train=train.drop('trip_duration',1)\n",
    "test=test.drop('trip_duration',1)"
   ]
  },
  {
   "cell_type": "code",
   "execution_count": 74,
   "metadata": {},
   "outputs": [
    {
     "name": "stdout",
     "output_type": "stream",
     "text": [
      "<class 'pandas.core.frame.DataFrame'>\n",
      "Int64Index: 1458644 entries, 0 to 1458643\n",
      "Data columns (total 14 columns):\n",
      "dropoff_latitude        1458644 non-null float64\n",
      "dropoff_longitude       1458644 non-null float64\n",
      "passenger_count         1458644 non-null int64\n",
      "pickup_latitude         1458644 non-null float64\n",
      "pickup_longitude        1458644 non-null float64\n",
      "pickup_datetimeyear     1458644 non-null int64\n",
      "pickup_datetimemonth    1458644 non-null int64\n",
      "pickup_datetimeday      1458644 non-null int64\n",
      "pickup_datetimehour     1458644 non-null int64\n",
      "distance                1458644 non-null float64\n",
      "vendor_id_1             1458644 non-null uint8\n",
      "vendor_id_2             1458644 non-null uint8\n",
      "store_and_fwd_flag_N    1458644 non-null uint8\n",
      "store_and_fwd_flag_Y    1458644 non-null uint8\n",
      "dtypes: float64(5), int64(5), uint8(4)\n",
      "memory usage: 128.0 MB\n",
      "<class 'pandas.core.frame.DataFrame'>\n",
      "Int64Index: 625134 entries, 1458644 to 2083777\n",
      "Data columns (total 14 columns):\n",
      "dropoff_latitude        625134 non-null float64\n",
      "dropoff_longitude       625134 non-null float64\n",
      "passenger_count         625134 non-null int64\n",
      "pickup_latitude         625134 non-null float64\n",
      "pickup_longitude        625134 non-null float64\n",
      "pickup_datetimeyear     625134 non-null int64\n",
      "pickup_datetimemonth    625134 non-null int64\n",
      "pickup_datetimeday      625134 non-null int64\n",
      "pickup_datetimehour     625134 non-null int64\n",
      "distance                625134 non-null float64\n",
      "vendor_id_1             625134 non-null uint8\n",
      "vendor_id_2             625134 non-null uint8\n",
      "store_and_fwd_flag_N    625134 non-null uint8\n",
      "store_and_fwd_flag_Y    625134 non-null uint8\n",
      "dtypes: float64(5), int64(5), uint8(4)\n",
      "memory usage: 54.8 MB\n"
     ]
    },
    {
     "data": {
      "text/plain": [
       "(None, None)"
      ]
     },
     "execution_count": 74,
     "metadata": {},
     "output_type": "execute_result"
    },
    {
     "name": "stdout",
     "output_type": "stream",
     "text": [
      "time: 822 ms\n"
     ]
    }
   ],
   "source": [
    "train.info(),test.info()"
   ]
  },
  {
   "cell_type": "code",
   "execution_count": 75,
   "metadata": {},
   "outputs": [
    {
     "name": "stdout",
     "output_type": "stream",
     "text": [
      "time: 2 ms\n"
     ]
    }
   ],
   "source": [
    "lr=LinearRegression()"
   ]
  },
  {
   "cell_type": "code",
   "execution_count": 76,
   "metadata": {},
   "outputs": [
    {
     "name": "stdout",
     "output_type": "stream",
     "text": [
      "time: 2 ms\n"
     ]
    }
   ],
   "source": [
    "from sklearn import cross_validation"
   ]
  },
  {
   "cell_type": "code",
   "execution_count": 82,
   "metadata": {},
   "outputs": [
    {
     "name": "stdout",
     "output_type": "stream",
     "text": [
      "145860\n",
      "69577.1508726\n",
      "145864\n",
      "67270.2193809\n",
      "145863\n",
      "69395.2832356\n",
      "145859\n",
      "68976.5561392\n",
      "145857\n",
      "69601.9860534\n",
      "145849\n",
      "69514.3707301\n",
      "145861\n",
      "67695.1049285\n",
      "145861\n",
      "69567.3729655\n",
      "145860\n",
      "69357.4106829\n",
      "145859\n",
      "69787.1441412\n",
      "Results: 0.688150204103\n",
      "time: 17.9 s\n"
     ]
    }
   ],
   "source": [
    "#Simple K-Fold cross validation. 10 folds.\n",
    "cv = cross_validation.KFold(len(train), n_folds=10)\n",
    "results = []\n",
    "# \"Error_function\" can be replaced by the error function of your analysis\n",
    "for traincv, testcv in cv:\n",
    "        temp=target[['trip_duration']].iloc[testcv]\n",
    "        temp['predic'] = lr.fit(train.iloc[traincv], target['trip_duration'].iloc[traincv]).predict(train.iloc[testcv])\n",
    "        temp=temp[temp['predic']>=0]\n",
    "        results.append( rmsle(np.array(temp['predic']),np.array(temp['trip_duration'])) )\n",
    "print \"Results: \" + str(np.array(results).mean())"
   ]
  },
  {
   "cell_type": "code",
   "execution_count": 85,
   "metadata": {},
   "outputs": [
    {
     "data": {
      "text/plain": [
       "([0.69066144951667607,\n",
       "  0.67910567941162725,\n",
       "  0.68975110603423462,\n",
       "  0.68767642757275482,\n",
       "  0.69079180644421445,\n",
       "  0.69037581667351067,\n",
       "  0.68125395962459612,\n",
       "  0.69061054997247273,\n",
       "  0.68956995544569077,\n",
       "  0.69170529033350225],\n",
       " 0.68815020410292793)"
      ]
     },
     "execution_count": 85,
     "metadata": {},
     "output_type": "execute_result"
    },
    {
     "name": "stdout",
     "output_type": "stream",
     "text": [
      "time: 5 ms\n"
     ]
    }
   ],
   "source": [
    "results,np.mean(results)"
   ]
  },
  {
   "cell_type": "code",
   "execution_count": 86,
   "metadata": {},
   "outputs": [
    {
     "name": "stdout",
     "output_type": "stream",
     "text": [
      "time: 1.38 s\n"
     ]
    }
   ],
   "source": [
    "#temp=target[['trip_duration']].iloc[testcv]\n",
    "subm['trip_duration'] = lr.fit(train, target['trip_duration']).predict(test)"
   ]
  },
  {
   "cell_type": "code",
   "execution_count": 93,
   "metadata": {},
   "outputs": [
    {
     "data": {
      "text/plain": [
       "959.49227296036588"
      ]
     },
     "execution_count": 93,
     "metadata": {},
     "output_type": "execute_result"
    },
    {
     "name": "stdout",
     "output_type": "stream",
     "text": [
      "time: 20 ms\n"
     ]
    }
   ],
   "source": [
    "target['trip_duration'].mean()"
   ]
  },
  {
   "cell_type": "code",
   "execution_count": 97,
   "metadata": {},
   "outputs": [
    {
     "name": "stdout",
     "output_type": "stream",
     "text": [
      "time: 385 ms\n"
     ]
    }
   ],
   "source": [
    "subm['trip_duration'][subm['trip_duration']<0]=target['trip_duration'].mean()"
   ]
  },
  {
   "cell_type": "code",
   "execution_count": 98,
   "metadata": {},
   "outputs": [
    {
     "data": {
      "text/html": [
       "<div>\n",
       "<style>\n",
       "    .dataframe thead tr:only-child th {\n",
       "        text-align: right;\n",
       "    }\n",
       "\n",
       "    .dataframe thead th {\n",
       "        text-align: left;\n",
       "    }\n",
       "\n",
       "    .dataframe tbody tr th {\n",
       "        vertical-align: top;\n",
       "    }\n",
       "</style>\n",
       "<table border=\"1\" class=\"dataframe\">\n",
       "  <thead>\n",
       "    <tr style=\"text-align: right;\">\n",
       "      <th></th>\n",
       "      <th>id</th>\n",
       "      <th>trip_duration</th>\n",
       "    </tr>\n",
       "  </thead>\n",
       "  <tbody>\n",
       "  </tbody>\n",
       "</table>\n",
       "</div>"
      ],
      "text/plain": [
       "Empty DataFrame\n",
       "Columns: [id, trip_duration]\n",
       "Index: []"
      ]
     },
     "execution_count": 98,
     "metadata": {},
     "output_type": "execute_result"
    },
    {
     "name": "stdout",
     "output_type": "stream",
     "text": [
      "time: 53 ms\n"
     ]
    }
   ],
   "source": [
    "subm[subm['trip_duration']<0]"
   ]
  },
  {
   "cell_type": "code",
   "execution_count": 99,
   "metadata": {},
   "outputs": [
    {
     "name": "stdout",
     "output_type": "stream",
     "text": [
      "time: 872 ms\n"
     ]
    }
   ],
   "source": [
    "subm.to_csv(r'C:\\Users\\sushant\\Documents\\Datasets\\NYC\\Sub_1stLinearModel.csv',index=False)"
   ]
  },
  {
   "cell_type": "code",
   "execution_count": 25,
   "metadata": {},
   "outputs": [
    {
     "name": "stdout",
     "output_type": "stream",
     "text": [
      "time: 1 ms\n"
     ]
    }
   ],
   "source": [
    "#data.to_csv(r'C:\\Users\\sushant\\Documents\\Datasets\\NYC\\data_clean.csv',index=False)"
   ]
  },
  {
   "cell_type": "code",
   "execution_count": 32,
   "metadata": {},
   "outputs": [
    {
     "data": {
      "text/markdown": [
       "### Validation Err\n",
       "# 0.891920"
      ],
      "text/plain": [
       "<IPython.core.display.Markdown object>"
      ]
     },
     "metadata": {},
     "output_type": "display_data"
    },
    {
     "name": "stdout",
     "output_type": "stream",
     "text": [
      "time: 9.85 s\n"
     ]
    }
   ],
   "source": [
    "printmd('### Validation Err\\n# %f'%float(rmsle(pred['mean_pred'],pred['trip_duration'])))"
   ]
  },
  {
   "cell_type": "code",
   "execution_count": null,
   "metadata": {
    "collapsed": true
   },
   "outputs": [],
   "source": []
  }
 ],
 "metadata": {
  "kernelspec": {
   "display_name": "Python [Root]",
   "language": "python",
   "name": "Python [Root]"
  },
  "language_info": {
   "codemirror_mode": {
    "name": "ipython",
    "version": 2
   },
   "file_extension": ".py",
   "mimetype": "text/x-python",
   "name": "python",
   "nbconvert_exporter": "python",
   "pygments_lexer": "ipython2",
   "version": "2.7.12"
  }
 },
 "nbformat": 4,
 "nbformat_minor": 1
}
