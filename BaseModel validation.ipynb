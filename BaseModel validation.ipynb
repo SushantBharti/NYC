{
 "cells": [
  {
   "cell_type": "code",
   "execution_count": 1,
   "metadata": {},
   "outputs": [
    {
     "name": "stderr",
     "output_type": "stream",
     "text": [
      "C:\\Users\\sushant\\Anaconda2\\lib\\site-packages\\sklearn\\cross_validation.py:44: DeprecationWarning: This module was deprecated in version 0.18 in favor of the model_selection module into which all the refactored classes and functions are moved. Also note that the interface of the new CV iterators are different from that of this module. This module will be removed in 0.20.\n",
      "  \"This module will be removed in 0.20.\", DeprecationWarning)\n"
     ]
    }
   ],
   "source": [
    "import pandas as pd\n",
    "import numpy as np\n",
    "import os\n",
    "import scipy\n",
    "import itertools\n",
    "import seaborn as sns\n",
    "import matplotlib.pyplot as plt    \n",
    "import xgboost as xgb\n",
    "iv=['np'    , 'os'     ,'pd'    , 'plt'     ,'tqdm'    , 'train'     ,'train_date'      , 'train_num' ,'data'    ]\n",
    "def memchk(iv):\n",
    "    import sys,operator\n",
    "    ipython_vars=iv\n",
    "    ,'warnings'    , 'xgboost']\n",
    "    print sorted([(x, sys.getsizeof(globals().get(x))) for x in dir() if not x.startswith('_') and x not in sys.modules and x not in ipython_vars], key=lambda x: x[1], reverse=True)\n",
    "    return sorted([{i:sys.getsizeof(globals().get(i))/1000000.0} for i in ipython_vars])\n",
    "%matplotlib inline\n",
    "from sklearn.metrics import confusion_matrix\n",
    "import warnings\n",
    "%load_ext autotime\n",
    "warnings.filterwarnings('ignore')\n",
    "from tqdm import tqdm\n",
    "from IPython.display import Markdown, display\n",
    "def printmd(string):\n",
    "    display(Markdown(string))\n",
    "plt.style.use('classic')\n",
    "from contigency import Ttable,table, plot "
   ]
  },
  {
   "cell_type": "code",
   "execution_count": 28,
   "metadata": {},
   "outputs": [
    {
     "name": "stdout",
     "output_type": "stream",
     "text": [
      "time: 150 ms\n"
     ]
    }
   ],
   "source": [
    "def rmsle(predicted,real):\n",
    "    sum=0.0\n",
    "    for x in range(len(predicted)):\n",
    "        p = np.log(predicted[x]+1)\n",
    "        r = np.log(real[x]+1)\n",
    "        sum = sum + (p - r)**2\n",
    "    return (sum/len(predicted))**0.5"
   ]
  },
  {
   "cell_type": "code",
   "execution_count": 3,
   "metadata": {},
   "outputs": [
    {
     "name": "stdout",
     "output_type": "stream",
     "text": [
      "time: 26.2 s\n"
     ]
    }
   ],
   "source": [
    "data = pd.read_csv(r'C:\\Users\\sushant\\Documents\\Datasets\\NYC\\data_clean.csv').drop('Unnamed: 0',1)"
   ]
  },
  {
   "cell_type": "code",
   "execution_count": 4,
   "metadata": {},
   "outputs": [
    {
     "name": "stdout",
     "output_type": "stream",
     "text": [
      "<class 'pandas.core.frame.DataFrame'>\n",
      "RangeIndex: 2083778 entries, 0 to 2083777\n",
      "Data columns (total 22 columns):\n",
      "dropoff_datetime         object\n",
      "dropoff_latitude         float64\n",
      "dropoff_longitude        float64\n",
      "id                       object\n",
      "passenger_count          int64\n",
      "pickup_datetime          object\n",
      "pickup_latitude          float64\n",
      "pickup_longitude         float64\n",
      "store_and_fwd_flag       object\n",
      "trip_duration            float64\n",
      "vendor_id                int64\n",
      "dropoff_datetimeyear     float64\n",
      "dropoff_datetimemonth    float64\n",
      "dropoff_datetimeday      float64\n",
      "dropoff_datetimehour     float64\n",
      "dropoff_datetimedate     object\n",
      "pickup_datetimeyear      int64\n",
      "pickup_datetimemonth     int64\n",
      "pickup_datetimeday       int64\n",
      "pickup_datetimehour      int64\n",
      "pickup_datetimedate      object\n",
      "Train                    int64\n",
      "dtypes: float64(9), int64(7), object(6)\n",
      "memory usage: 349.8+ MB\n",
      "time: 150 ms\n"
     ]
    }
   ],
   "source": [
    "data.info()"
   ]
  },
  {
   "cell_type": "code",
   "execution_count": 5,
   "metadata": {},
   "outputs": [
    {
     "data": {
      "text/plain": [
       "trip_duration    959.492273\n",
       "dtype: float64"
      ]
     },
     "execution_count": 5,
     "metadata": {},
     "output_type": "execute_result"
    },
    {
     "name": "stdout",
     "output_type": "stream",
     "text": [
      "time: 533 ms\n"
     ]
    }
   ],
   "source": [
    "data[data['Train']==1][['trip_duration']].mean()"
   ]
  },
  {
   "cell_type": "code",
   "execution_count": 6,
   "metadata": {},
   "outputs": [
    {
     "data": {
      "text/plain": [
       "Int64Index([      0,       1,       2,       3,       4,       5,       6,\n",
       "                  7,       8,       9,\n",
       "            ...\n",
       "            1458634, 1458635, 1458636, 1458637, 1458638, 1458639, 1458640,\n",
       "            1458641, 1458642, 1458643],\n",
       "           dtype='int64', length=1458644)"
      ]
     },
     "execution_count": 6,
     "metadata": {},
     "output_type": "execute_result"
    },
    {
     "name": "stdout",
     "output_type": "stream",
     "text": [
      "time: 412 ms\n"
     ]
    }
   ],
   "source": [
    "data[data['Train']==1].index"
   ]
  },
  {
   "cell_type": "code",
   "execution_count": 7,
   "metadata": {},
   "outputs": [
    {
     "data": {
      "text/plain": [
       "Int64Index([1458644, 1458645, 1458646, 1458647, 1458648, 1458649, 1458650,\n",
       "            1458651, 1458652, 1458653,\n",
       "            ...\n",
       "            2083768, 2083769, 2083770, 2083771, 2083772, 2083773, 2083774,\n",
       "            2083775, 2083776, 2083777],\n",
       "           dtype='int64', length=625134)"
      ]
     },
     "execution_count": 7,
     "metadata": {},
     "output_type": "execute_result"
    },
    {
     "name": "stdout",
     "output_type": "stream",
     "text": [
      "time: 181 ms\n"
     ]
    }
   ],
   "source": [
    "data[data['Train']==0].index"
   ]
  },
  {
   "cell_type": "code",
   "execution_count": 8,
   "metadata": {},
   "outputs": [
    {
     "data": {
      "text/plain": [
       "291729.0"
      ]
     },
     "execution_count": 8,
     "metadata": {},
     "output_type": "execute_result"
    },
    {
     "name": "stdout",
     "output_type": "stream",
     "text": [
      "time: 879 ms\n"
     ]
    }
   ],
   "source": [
    "round(len(data[data['Train']==1])*.2)\n",
    "#data['Valid']=0"
   ]
  },
  {
   "cell_type": "code",
   "execution_count": 9,
   "metadata": {},
   "outputs": [
    {
     "name": "stdout",
     "output_type": "stream",
     "text": [
      "time: 258 ms\n"
     ]
    }
   ],
   "source": [
    "data['Valid']=0"
   ]
  },
  {
   "cell_type": "code",
   "execution_count": 10,
   "metadata": {},
   "outputs": [
    {
     "name": "stdout",
     "output_type": "stream",
     "text": [
      "time: 4.56 s\n"
     ]
    }
   ],
   "source": [
    "data['Valid'][data['Train']==0]=2"
   ]
  },
  {
   "cell_type": "code",
   "execution_count": 11,
   "metadata": {},
   "outputs": [
    {
     "name": "stdout",
     "output_type": "stream",
     "text": [
      "1    1458644\n",
      "0     625134\n",
      "Name: Train, dtype: int64\n"
     ]
    },
    {
     "data": {
      "text/plain": [
       "0    1458644\n",
       "2     625134\n",
       "Name: Valid, dtype: int64"
      ]
     },
     "execution_count": 11,
     "metadata": {},
     "output_type": "execute_result"
    },
    {
     "name": "stdout",
     "output_type": "stream",
     "text": [
      "time: 269 ms\n"
     ]
    }
   ],
   "source": [
    "print data['Train'].value_counts()\n",
    "data['Valid'].value_counts()"
   ]
  },
  {
   "cell_type": "code",
   "execution_count": 12,
   "metadata": {},
   "outputs": [
    {
     "data": {
      "text/plain": [
       "291729"
      ]
     },
     "execution_count": 12,
     "metadata": {},
     "output_type": "execute_result"
    },
    {
     "name": "stdout",
     "output_type": "stream",
     "text": [
      "time: 398 ms\n"
     ]
    }
   ],
   "source": [
    "int(round(len(data[data['Train']==1])*.2))"
   ]
  },
  {
   "cell_type": "code",
   "execution_count": 13,
   "metadata": {},
   "outputs": [
    {
     "name": "stdout",
     "output_type": "stream",
     "text": [
      "time: 1.06 s\n"
     ]
    }
   ],
   "source": [
    "data['Valid'][(data['Train']==1)&(data.index.isin(range(int(round(len(data[data['Train']==1])*.2)))))] = 1"
   ]
  },
  {
   "cell_type": "code",
   "execution_count": 14,
   "metadata": {},
   "outputs": [
    {
     "name": "stdout",
     "output_type": "stream",
     "text": [
      "1    1458644\n",
      "0     625134\n",
      "Name: Train, dtype: int64\n"
     ]
    },
    {
     "data": {
      "text/plain": [
       "0    1166915\n",
       "2     625134\n",
       "1     291729\n",
       "Name: Valid, dtype: int64"
      ]
     },
     "execution_count": 14,
     "metadata": {},
     "output_type": "execute_result"
    },
    {
     "name": "stdout",
     "output_type": "stream",
     "text": [
      "time: 80 ms\n"
     ]
    }
   ],
   "source": [
    "print data['Train'].value_counts()\n",
    "data['Valid'].value_counts()"
   ]
  },
  {
   "cell_type": "code",
   "execution_count": 15,
   "metadata": {},
   "outputs": [
    {
     "data": {
      "text/plain": [
       "trip_duration    962.072552\n",
       "dtype: float64"
      ]
     },
     "execution_count": 15,
     "metadata": {},
     "output_type": "execute_result"
    },
    {
     "name": "stdout",
     "output_type": "stream",
     "text": [
      "time: 522 ms\n"
     ]
    }
   ],
   "source": [
    "data[data['Valid']==0][['trip_duration']].mean()"
   ]
  },
  {
   "cell_type": "code",
   "execution_count": 16,
   "metadata": {},
   "outputs": [
    {
     "data": {
      "text/plain": [
       "949.17116570515782"
      ]
     },
     "execution_count": 16,
     "metadata": {},
     "output_type": "execute_result"
    },
    {
     "name": "stdout",
     "output_type": "stream",
     "text": [
      "time: 271 ms\n"
     ]
    }
   ],
   "source": [
    "data[data['Valid']==1][['trip_duration']].mean()[0]"
   ]
  },
  {
   "cell_type": "code",
   "execution_count": 17,
   "metadata": {},
   "outputs": [
    {
     "name": "stdout",
     "output_type": "stream",
     "text": [
      "time: 90 ms\n"
     ]
    }
   ],
   "source": [
    "pred=data[data['Valid']==1][['trip_duration']]"
   ]
  },
  {
   "cell_type": "code",
   "execution_count": 18,
   "metadata": {},
   "outputs": [
    {
     "name": "stdout",
     "output_type": "stream",
     "text": [
      "time: 1.04 s\n"
     ]
    }
   ],
   "source": [
    "pred['mean_pred']=data[data['Valid']==0][['trip_duration']].mean()[0]"
   ]
  },
  {
   "cell_type": "code",
   "execution_count": 19,
   "metadata": {},
   "outputs": [
    {
     "name": "stdout",
     "output_type": "stream",
     "text": [
      "time: 691 ms\n"
     ]
    }
   ],
   "source": [
    "pred['err']=pred['mean_pred']-pred['trip_duration']"
   ]
  },
  {
   "cell_type": "code",
   "execution_count": 20,
   "metadata": {},
   "outputs": [
    {
     "name": "stdout",
     "output_type": "stream",
     "text": [
      "time: 69 ms\n"
     ]
    }
   ],
   "source": [
    "pred['sqr_err']=pred['err']*pred['err']"
   ]
  },
  {
   "cell_type": "code",
   "execution_count": 21,
   "metadata": {},
   "outputs": [
    {
     "data": {
      "text/plain": [
       "count    291729.000000\n",
       "mean         12.901386\n",
       "std        3124.816642\n",
       "min      -85427.927448\n",
       "25%        -111.927448\n",
       "50%         300.072552\n",
       "75%         566.072552\n",
       "max         961.072552\n",
       "Name: err, dtype: float64"
      ]
     },
     "execution_count": 21,
     "metadata": {},
     "output_type": "execute_result"
    },
    {
     "name": "stdout",
     "output_type": "stream",
     "text": [
      "time: 463 ms\n"
     ]
    }
   ],
   "source": [
    "pred['err'].describe()"
   ]
  },
  {
   "cell_type": "code",
   "execution_count": null,
   "metadata": {},
   "outputs": [],
   "source": [
    "pred.plot(x='trip_duration',y='err',kind='scatter')"
   ]
  },
  {
   "cell_type": "code",
   "execution_count": 22,
   "metadata": {},
   "outputs": [
    {
     "data": {
      "text/html": [
       "<div>\n",
       "<style>\n",
       "    .dataframe thead tr:only-child th {\n",
       "        text-align: right;\n",
       "    }\n",
       "\n",
       "    .dataframe thead th {\n",
       "        text-align: left;\n",
       "    }\n",
       "\n",
       "    .dataframe tbody tr th {\n",
       "        vertical-align: top;\n",
       "    }\n",
       "</style>\n",
       "<table border=\"1\" class=\"dataframe\">\n",
       "  <thead>\n",
       "    <tr style=\"text-align: right;\">\n",
       "      <th></th>\n",
       "      <th>trip_duration</th>\n",
       "      <th>mean_pred</th>\n",
       "      <th>err</th>\n",
       "      <th>sqr_err</th>\n",
       "    </tr>\n",
       "  </thead>\n",
       "  <tbody>\n",
       "    <tr>\n",
       "      <th>count</th>\n",
       "      <td>291729.000000</td>\n",
       "      <td>2.917290e+05</td>\n",
       "      <td>291729.000000</td>\n",
       "      <td>2.917290e+05</td>\n",
       "    </tr>\n",
       "    <tr>\n",
       "      <th>mean</th>\n",
       "      <td>949.171166</td>\n",
       "      <td>9.620726e+02</td>\n",
       "      <td>12.901386</td>\n",
       "      <td>9.764612e+06</td>\n",
       "    </tr>\n",
       "    <tr>\n",
       "      <th>std</th>\n",
       "      <td>3124.816642</td>\n",
       "      <td>7.958092e-13</td>\n",
       "      <td>3124.816642</td>\n",
       "      <td>2.557891e+08</td>\n",
       "    </tr>\n",
       "    <tr>\n",
       "      <th>min</th>\n",
       "      <td>1.000000</td>\n",
       "      <td>9.620726e+02</td>\n",
       "      <td>-85427.927448</td>\n",
       "      <td>5.263791e-03</td>\n",
       "    </tr>\n",
       "    <tr>\n",
       "      <th>25%</th>\n",
       "      <td>396.000000</td>\n",
       "      <td>9.620726e+02</td>\n",
       "      <td>-111.927448</td>\n",
       "      <td>5.715569e+04</td>\n",
       "    </tr>\n",
       "    <tr>\n",
       "      <th>50%</th>\n",
       "      <td>662.000000</td>\n",
       "      <td>9.620726e+02</td>\n",
       "      <td>300.072552</td>\n",
       "      <td>2.096975e+05</td>\n",
       "    </tr>\n",
       "    <tr>\n",
       "      <th>75%</th>\n",
       "      <td>1074.000000</td>\n",
       "      <td>9.620726e+02</td>\n",
       "      <td>566.072552</td>\n",
       "      <td>4.423215e+05</td>\n",
       "    </tr>\n",
       "    <tr>\n",
       "      <th>max</th>\n",
       "      <td>86390.000000</td>\n",
       "      <td>9.620726e+02</td>\n",
       "      <td>961.072552</td>\n",
       "      <td>7.297931e+09</td>\n",
       "    </tr>\n",
       "  </tbody>\n",
       "</table>\n",
       "</div>"
      ],
      "text/plain": [
       "       trip_duration     mean_pred            err       sqr_err\n",
       "count  291729.000000  2.917290e+05  291729.000000  2.917290e+05\n",
       "mean      949.171166  9.620726e+02      12.901386  9.764612e+06\n",
       "std      3124.816642  7.958092e-13    3124.816642  2.557891e+08\n",
       "min         1.000000  9.620726e+02  -85427.927448  5.263791e-03\n",
       "25%       396.000000  9.620726e+02    -111.927448  5.715569e+04\n",
       "50%       662.000000  9.620726e+02     300.072552  2.096975e+05\n",
       "75%      1074.000000  9.620726e+02     566.072552  4.423215e+05\n",
       "max     86390.000000  9.620726e+02     961.072552  7.297931e+09"
      ]
     },
     "execution_count": 22,
     "metadata": {},
     "output_type": "execute_result"
    },
    {
     "name": "stdout",
     "output_type": "stream",
     "text": [
      "time: 396 ms\n"
     ]
    }
   ],
   "source": [
    "pred.describe()"
   ]
  },
  {
   "cell_type": "code",
   "execution_count": 23,
   "metadata": {},
   "outputs": [
    {
     "data": {
      "text/html": [
       "<div>\n",
       "<style>\n",
       "    .dataframe thead tr:only-child th {\n",
       "        text-align: right;\n",
       "    }\n",
       "\n",
       "    .dataframe thead th {\n",
       "        text-align: left;\n",
       "    }\n",
       "\n",
       "    .dataframe tbody tr th {\n",
       "        vertical-align: top;\n",
       "    }\n",
       "</style>\n",
       "<table border=\"1\" class=\"dataframe\">\n",
       "  <thead>\n",
       "    <tr style=\"text-align: right;\">\n",
       "      <th></th>\n",
       "      <th>trip_duration</th>\n",
       "      <th>mean_pred</th>\n",
       "      <th>err</th>\n",
       "      <th>sqr_err</th>\n",
       "    </tr>\n",
       "  </thead>\n",
       "  <tbody>\n",
       "    <tr>\n",
       "      <th>count</th>\n",
       "      <td>291329.000000</td>\n",
       "      <td>2.913290e+05</td>\n",
       "      <td>291329.000000</td>\n",
       "      <td>2.913290e+05</td>\n",
       "    </tr>\n",
       "    <tr>\n",
       "      <th>mean</th>\n",
       "      <td>836.984094</td>\n",
       "      <td>9.620726e+02</td>\n",
       "      <td>125.088458</td>\n",
       "      <td>4.540090e+05</td>\n",
       "    </tr>\n",
       "    <tr>\n",
       "      <th>std</th>\n",
       "      <td>662.090191</td>\n",
       "      <td>9.094963e-13</td>\n",
       "      <td>662.090191</td>\n",
       "      <td>1.616584e+06</td>\n",
       "    </tr>\n",
       "    <tr>\n",
       "      <th>min</th>\n",
       "      <td>1.000000</td>\n",
       "      <td>9.620726e+02</td>\n",
       "      <td>-17476.927448</td>\n",
       "      <td>5.263791e-03</td>\n",
       "    </tr>\n",
       "    <tr>\n",
       "      <th>25%</th>\n",
       "      <td>396.000000</td>\n",
       "      <td>9.620726e+02</td>\n",
       "      <td>-109.927448</td>\n",
       "      <td>5.715569e+04</td>\n",
       "    </tr>\n",
       "    <tr>\n",
       "      <th>50%</th>\n",
       "      <td>661.000000</td>\n",
       "      <td>9.620726e+02</td>\n",
       "      <td>301.072552</td>\n",
       "      <td>2.089153e+05</td>\n",
       "    </tr>\n",
       "    <tr>\n",
       "      <th>75%</th>\n",
       "      <td>1072.000000</td>\n",
       "      <td>9.620726e+02</td>\n",
       "      <td>566.072552</td>\n",
       "      <td>4.409924e+05</td>\n",
       "    </tr>\n",
       "    <tr>\n",
       "      <th>max</th>\n",
       "      <td>18439.000000</td>\n",
       "      <td>9.620726e+02</td>\n",
       "      <td>961.072552</td>\n",
       "      <td>3.054430e+08</td>\n",
       "    </tr>\n",
       "  </tbody>\n",
       "</table>\n",
       "</div>"
      ],
      "text/plain": [
       "       trip_duration     mean_pred            err       sqr_err\n",
       "count  291329.000000  2.913290e+05  291329.000000  2.913290e+05\n",
       "mean      836.984094  9.620726e+02     125.088458  4.540090e+05\n",
       "std       662.090191  9.094963e-13     662.090191  1.616584e+06\n",
       "min         1.000000  9.620726e+02  -17476.927448  5.263791e-03\n",
       "25%       396.000000  9.620726e+02    -109.927448  5.715569e+04\n",
       "50%       661.000000  9.620726e+02     301.072552  2.089153e+05\n",
       "75%      1072.000000  9.620726e+02     566.072552  4.409924e+05\n",
       "max     18439.000000  9.620726e+02     961.072552  3.054430e+08"
      ]
     },
     "execution_count": 23,
     "metadata": {},
     "output_type": "execute_result"
    },
    {
     "name": "stdout",
     "output_type": "stream",
     "text": [
      "time: 146 ms\n"
     ]
    }
   ],
   "source": [
    "pred[pred['trip_duration']<20000].describe()"
   ]
  },
  {
   "cell_type": "code",
   "execution_count": 24,
   "metadata": {},
   "outputs": [
    {
     "name": "stdout",
     "output_type": "stream",
     "text": [
      "<class 'pandas.core.frame.DataFrame'>\n",
      "RangeIndex: 2083778 entries, 0 to 2083777\n",
      "Data columns (total 23 columns):\n",
      "dropoff_datetime         object\n",
      "dropoff_latitude         float64\n",
      "dropoff_longitude        float64\n",
      "id                       object\n",
      "passenger_count          int64\n",
      "pickup_datetime          object\n",
      "pickup_latitude          float64\n",
      "pickup_longitude         float64\n",
      "store_and_fwd_flag       object\n",
      "trip_duration            float64\n",
      "vendor_id                int64\n",
      "dropoff_datetimeyear     float64\n",
      "dropoff_datetimemonth    float64\n",
      "dropoff_datetimeday      float64\n",
      "dropoff_datetimehour     float64\n",
      "dropoff_datetimedate     object\n",
      "pickup_datetimeyear      int64\n",
      "pickup_datetimemonth     int64\n",
      "pickup_datetimeday       int64\n",
      "pickup_datetimehour      int64\n",
      "pickup_datetimedate      object\n",
      "Train                    int64\n",
      "Valid                    int64\n",
      "dtypes: float64(9), int64(8), object(6)\n",
      "memory usage: 365.7+ MB\n",
      "time: 8 ms\n"
     ]
    }
   ],
   "source": [
    "data.info()"
   ]
  },
  {
   "cell_type": "code",
   "execution_count": 25,
   "metadata": {},
   "outputs": [
    {
     "name": "stdout",
     "output_type": "stream",
     "text": [
      "time: 1 ms\n"
     ]
    }
   ],
   "source": [
    "#data.to_csv(r'C:\\Users\\sushant\\Documents\\Datasets\\NYC\\data_clean.csv',index=False)"
   ]
  },
  {
   "cell_type": "code",
   "execution_count": 32,
   "metadata": {},
   "outputs": [
    {
     "data": {
      "text/markdown": [
       "### Validation Err\n",
       "# 0.891920"
      ],
      "text/plain": [
       "<IPython.core.display.Markdown object>"
      ]
     },
     "metadata": {},
     "output_type": "display_data"
    },
    {
     "name": "stdout",
     "output_type": "stream",
     "text": [
      "time: 9.85 s\n"
     ]
    }
   ],
   "source": [
    "printmd('### Validation Err\\n# %f'%float(rmsle(pred['mean_pred'],pred['trip_duration'])))"
   ]
  },
  {
   "cell_type": "code",
   "execution_count": null,
   "metadata": {
    "collapsed": true
   },
   "outputs": [],
   "source": []
  }
 ],
 "metadata": {
  "kernelspec": {
   "display_name": "Python [Root]",
   "language": "python",
   "name": "Python [Root]"
  },
  "language_info": {
   "codemirror_mode": {
    "name": "ipython",
    "version": 2
   },
   "file_extension": ".py",
   "mimetype": "text/x-python",
   "name": "python",
   "nbconvert_exporter": "python",
   "pygments_lexer": "ipython2",
   "version": "2.7.12"
  }
 },
 "nbformat": 4,
 "nbformat_minor": 1
}
